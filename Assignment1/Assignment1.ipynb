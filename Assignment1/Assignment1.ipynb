{
  "nbformat": 4,
  "nbformat_minor": 0,
  "metadata": {
    "colab": {
      "name": "END2.0 Session 1.ipynb",
      "provenance": []
    },
    "kernelspec": {
      "name": "python3",
      "display_name": "Python 3"
    },
    "language_info": {
      "name": "python"
    }
  },
  "cells": [
    {
      "cell_type": "code",
      "metadata": {
        "colab": {
          "base_uri": "https://localhost:8080/"
        },
        "id": "GC_6PeobwwkH",
        "outputId": "7c023354-47d9-4fe4-83f9-f44aebcbc218"
      },
      "source": [
        "import torch\n",
        "from torch.autograd import Variable\n",
        "import torch.nn as nn\n",
        "import torch.nn.functional as F\n",
        "import torch.optim as optim\n",
        "import numpy as np\n",
        "import matplotlib.pyplot as plt\n",
        "%matplotlib inline\n",
        "torch.manual_seed(2)"
      ],
      "execution_count": null,
      "outputs": [
        {
          "output_type": "execute_result",
          "data": {
            "text/plain": [
              "<torch._C.Generator at 0x7f884c167a90>"
            ]
          },
          "metadata": {},
          "execution_count": 1
        }
      ]
    },
    {
      "cell_type": "code",
      "metadata": {
        "id": "bL64bMTkw2GP"
      },
      "source": [
        "X = torch.Tensor([[0,0], [0,1], [1,0], [1,1]])\n",
        "Y = torch.Tensor([0, 1, 1, 0]).view(-1,1)"
      ],
      "execution_count": null,
      "outputs": []
    },
    {
      "cell_type": "code",
      "metadata": {
        "id": "aC82kEAIw3Wf"
      },
      "source": [
        "class XOR(nn.Module):\n",
        "    def __init__(self, input_dim = 2, output_dim=1):\n",
        "        super(XOR, self).__init__()\n",
        "        self.lin1 = nn.Linear(input_dim, 5)\n",
        "        self.lin2 = nn.Linear(5, 4)\n",
        "        self.lin3 = nn.Linear(4, output_dim)\n",
        "    \n",
        "    def forward(self, x):\n",
        "        x = self.lin1(x)\n",
        "        x = F.tanh(x)\n",
        "        x = self.lin2(x)\n",
        "        x = F.tanh(x)\n",
        "        x = self.lin3(x)\n",
        "        return x"
      ],
      "execution_count": null,
      "outputs": []
    },
    {
      "cell_type": "code",
      "metadata": {
        "colab": {
          "base_uri": "https://localhost:8080/"
        },
        "id": "8gQIQExYw65K",
        "outputId": "ae6b3b0f-a757-4c00-e92a-9927e52f4f7c"
      },
      "source": [
        "model = XOR()\n",
        "print(model)\n",
        "from torchsummary import summary\n",
        "summary(model, (2,2))"
      ],
      "execution_count": null,
      "outputs": [
        {
          "output_type": "stream",
          "name": "stdout",
          "text": [
            "XOR(\n",
            "  (lin1): Linear(in_features=2, out_features=5, bias=True)\n",
            "  (lin2): Linear(in_features=5, out_features=4, bias=True)\n",
            "  (lin3): Linear(in_features=4, out_features=1, bias=True)\n",
            ")\n",
            "----------------------------------------------------------------\n",
            "        Layer (type)               Output Shape         Param #\n",
            "================================================================\n",
            "            Linear-1                 [-1, 2, 5]              15\n",
            "            Linear-2                 [-1, 2, 4]              24\n",
            "            Linear-3                 [-1, 2, 1]               5\n",
            "================================================================\n",
            "Total params: 44\n",
            "Trainable params: 44\n",
            "Non-trainable params: 0\n",
            "----------------------------------------------------------------\n",
            "Input size (MB): 0.00\n",
            "Forward/backward pass size (MB): 0.00\n",
            "Params size (MB): 0.00\n",
            "Estimated Total Size (MB): 0.00\n",
            "----------------------------------------------------------------\n"
          ]
        },
        {
          "output_type": "stream",
          "name": "stderr",
          "text": [
            "/usr/local/lib/python3.7/dist-packages/torch/nn/functional.py:1794: UserWarning: nn.functional.tanh is deprecated. Use torch.tanh instead.\n",
            "  warnings.warn(\"nn.functional.tanh is deprecated. Use torch.tanh instead.\")\n"
          ]
        }
      ]
    },
    {
      "cell_type": "code",
      "metadata": {
        "id": "yeotEq19x6XF"
      },
      "source": [
        "def weights_init(model):\n",
        "    for m in model.modules():\n",
        "        if isinstance(m, nn.Linear):\n",
        "            # initialize the weight tensor, here we use a normal distribution\n",
        "            m.weight.data.normal_(0, 1)\n",
        "\n",
        "weights_init(model)"
      ],
      "execution_count": null,
      "outputs": []
    },
    {
      "cell_type": "code",
      "metadata": {
        "id": "WrD_sNzLx78e"
      },
      "source": [
        "loss_func = nn.L1Loss()"
      ],
      "execution_count": null,
      "outputs": []
    },
    {
      "cell_type": "code",
      "metadata": {
        "id": "-zvbrMd2x_lA"
      },
      "source": [
        "optimizer = optim.SGD(model.parameters(), lr=0.02, momentum=0.9)\n"
      ],
      "execution_count": null,
      "outputs": []
    },
    {
      "cell_type": "code",
      "metadata": {
        "colab": {
          "base_uri": "https://localhost:8080/"
        },
        "id": "q7tWa3D7yA5X",
        "outputId": "86711427-8831-4b8b-edd2-c77babb17b5e"
      },
      "source": [
        "epochs = 2001\n",
        "steps = X.size(0)\n",
        "for i in range(epochs):\n",
        "    for j in range(steps):\n",
        "        data_point = np.random.randint(X.size(0))\n",
        "        x_var = Variable(X[data_point], requires_grad=False)\n",
        "        y_var = Variable(Y[data_point], requires_grad=False)\n",
        "        \n",
        "        optimizer.zero_grad()\n",
        "        y_hat = model(x_var)\n",
        "        loss = loss_func.forward(y_hat, y_var)\n",
        "        loss.backward()\n",
        "        optimizer.step()\n",
        "        \n",
        "    if i % 50 == 0:\n",
        "        print( \"Epoch: {0}, Loss: {1}, \".format(i, loss.data.numpy()))"
      ],
      "execution_count": null,
      "outputs": [
        {
          "output_type": "stream",
          "name": "stderr",
          "text": [
            "/usr/local/lib/python3.7/dist-packages/torch/nn/functional.py:1794: UserWarning: nn.functional.tanh is deprecated. Use torch.tanh instead.\n",
            "  warnings.warn(\"nn.functional.tanh is deprecated. Use torch.tanh instead.\")\n"
          ]
        },
        {
          "output_type": "stream",
          "name": "stdout",
          "text": [
            "Epoch: 0, Loss: 0.30312177538871765, \n",
            "Epoch: 50, Loss: 0.6569381356239319, \n",
            "Epoch: 100, Loss: 0.5406150817871094, \n",
            "Epoch: 150, Loss: 0.10504452884197235, \n",
            "Epoch: 200, Loss: 0.5325899124145508, \n",
            "Epoch: 250, Loss: 0.7137084007263184, \n",
            "Epoch: 300, Loss: 0.21678131818771362, \n",
            "Epoch: 350, Loss: 0.2702810764312744, \n",
            "Epoch: 400, Loss: 0.2114909291267395, \n",
            "Epoch: 450, Loss: 0.0019550323486328125, \n",
            "Epoch: 500, Loss: 0.5361709594726562, \n",
            "Epoch: 550, Loss: 0.4154806137084961, \n",
            "Epoch: 600, Loss: 0.07898938655853271, \n",
            "Epoch: 650, Loss: 0.395052433013916, \n",
            "Epoch: 700, Loss: 0.23983228206634521, \n",
            "Epoch: 750, Loss: 0.40859878063201904, \n",
            "Epoch: 800, Loss: 0.10057032108306885, \n",
            "Epoch: 850, Loss: 0.1665353775024414, \n",
            "Epoch: 900, Loss: 0.09418272972106934, \n",
            "Epoch: 950, Loss: 0.00520247220993042, \n",
            "Epoch: 1000, Loss: 0.6028318405151367, \n",
            "Epoch: 1050, Loss: 0.10425496101379395, \n",
            "Epoch: 1100, Loss: 0.4265437722206116, \n",
            "Epoch: 1150, Loss: 0.09887635707855225, \n",
            "Epoch: 1200, Loss: 0.1449785828590393, \n",
            "Epoch: 1250, Loss: 0.133544921875, \n",
            "Epoch: 1300, Loss: 0.24651914834976196, \n",
            "Epoch: 1350, Loss: 0.09413647651672363, \n",
            "Epoch: 1400, Loss: 0.10992699861526489, \n",
            "Epoch: 1450, Loss: 0.09553587436676025, \n",
            "Epoch: 1500, Loss: 0.09803980588912964, \n",
            "Epoch: 1550, Loss: 0.18870997428894043, \n",
            "Epoch: 1600, Loss: 0.1683366298675537, \n",
            "Epoch: 1650, Loss: 0.01364743709564209, \n",
            "Epoch: 1700, Loss: 0.08613622188568115, \n",
            "Epoch: 1750, Loss: 0.31855571269989014, \n",
            "Epoch: 1800, Loss: 0.04063534736633301, \n",
            "Epoch: 1850, Loss: 0.10384798049926758, \n",
            "Epoch: 1900, Loss: 0.0757092833518982, \n",
            "Epoch: 1950, Loss: 0.057028770446777344, \n",
            "Epoch: 2000, Loss: 0.032726824283599854, \n"
          ]
        }
      ]
    }
  ]
}